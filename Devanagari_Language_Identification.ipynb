{
 "metadata": {
  "name": "",
  "signature": "sha256:1f8a71b0f877ce9cfef35068d859792d22b1dc6b9632611d247085d800f502ef"
 },
 "nbformat": 3,
 "nbformat_minor": 0,
 "worksheets": [
  {
   "cells": [
    {
     "cell_type": "code",
     "collapsed": false,
     "input": [
      "import codecs\n",
      "import re\n",
      "import os\n",
      "import codecs\n",
      "import re\n",
      "import collections\n",
      "import glob\n",
      "import subprocess\n",
      "#NETCDF_HELPERS............................ \n",
      "from Scientific.IO.NetCDF import NetCDFFile\n",
      "from numpy import *\n",
      "\n",
      "def createNcDim(ncfile,name,d):\n",
      "\tprint \"creating netcdf dimension:\",name,d\n",
      "\tncfile.createDimension(name,d)\n",
      "\n",
      "#assumes ncfile will be written over (opened with 'w')\n",
      "def\tcreateNcVar(ncfile,vname,data,vtype,dims,desc):\n",
      "\tprint \"creating netcdf variable\",vname\n",
      "\tnc_var = ncfile.createVariable (vname,vtype,dims)\n",
      "\tnc_var.longname\t= desc\n",
      "\tnc_var.assignValue(data)\n",
      "\tprint shape(nc_var)\n",
      "\n",
      "def maxLen(strings):\n",
      "\tmaxLength=0\n",
      "\tfor s in strings:\n",
      "\t\tlength=len(s)\n",
      "\t\tif (length>maxLength):\n",
      "\t\t\tmaxLength=length\n",
      "\treturn maxLength\n",
      "\n",
      "def\tcreateNcStrings(ncfile,vname,strings,dims,desc):\n",
      "\tprint \"wrting strings\", vname\n",
      "\tmaxLength = maxLen(strings) + 1\n",
      "\tnullStrings = []\n",
      "\tfor s in strings:\n",
      "\t\tnullStrings.append(list(s) +['\\0']*(maxLength - len(s)))\n",
      "\tcreateNcDim(ncfile,dims[1],maxLength)\n",
      "\tcreateNcVar(ncfile,vname,array(nullStrings),'c',dims,desc)\n",
      "\n",
      "# def\tcreateNcString(ncfile,vname,string,dims,desc):\n",
      "# \tprint \"writing string\",vname\n",
      "# \tnullString = string + '\\0'\n",
      "# \tcreateNcDim(ncfile,dims[0],len(nullString))\n",
      "# \tcreateNcVar(ncfile,vname,nullString,'c',dims,desc)"
     ],
     "language": "python",
     "metadata": {},
     "outputs": [],
     "prompt_number": 1
    },
    {
     "cell_type": "code",
     "collapsed": false,
     "input": [
      "fp=codecs.open(\"feature_map_Devanagri.txt\",\"r\",\"utf-8\")\n",
      "dict_map={}\n",
      "for f in fp:\n",
      "    #print f.strip().split(':')[1].strip()\n",
      "    if f.strip().split(':')[1].strip()!='8':\n",
      "        dict_map[f.strip().split(':')[0].strip()]=f.strip().split(':')[1].strip()        \n",
      "dict_map[' ']='8'"
     ],
     "language": "python",
     "metadata": {},
     "outputs": [],
     "prompt_number": 2
    },
    {
     "cell_type": "code",
     "collapsed": false,
     "input": [
      "dict_op={}\n",
      "dict_op['1']='Marathi'\n",
      "dict_op['2']='Hindi'\n",
      "dict_op['3']='Kokani'\n",
      "dict_op['4']='Bodo'\n",
      "dict_op['5']='Nepali'"
     ],
     "language": "python",
     "metadata": {},
     "outputs": [],
     "prompt_number": 19
    },
    {
     "cell_type": "code",
     "collapsed": false,
     "input": [
      "labels=[]\n",
      "labels.append(\"1\")#Marathi : 1\n",
      "labels.append(\"2\")#Hindi : 2\n",
      "labels.append(\"3\")#Kokani : 3\n",
      "labels.append(\"4\")#Bodo : 4\n",
      "labels.append(\"5\")#Nepali : 5"
     ],
     "language": "python",
     "metadata": {},
     "outputs": [],
     "prompt_number": 20
    },
    {
     "cell_type": "code",
     "collapsed": false,
     "input": [
      "input_string=\"\u0938\u092e-\u0935\u093f\u0937\u092e \u091f\u094d\u0930\u0949\u092f\u0932 \u0915\u0947 \u0926\u094c\u0930\u093e\u0928 \u0915\u094d\u200d\u092f\u093e \u0915\u0930\u0947\u0902 \u0914\u0930 \u0915\u094d\u200d\u092f\u093e \u0928\u0939\u0940\u0902 \u0915\u0930\u0947\u0902\u0964 \u0907\u0938 \u092a\u0930 \u0938\u093e\u0935\u0927\u093e\u0928 \u0930\u0939\u0928\u0947 \u0915\u0940 \u091c\u0930\u0942\u0930\u0924 \u0939\u0948\u0964 \u0927\u094d\u200d\u092f\u093e\u0928 \u0930\u0916\u0947\u0902 \u0915\u093f \u0905\u0917 \u0906\u092a\u0915\u093e \u091a\u093e\u0932\u093e\u0928 \u0915\u091f\u093e \u0924\u094b \u0926\u093e\u0947 \u0939\u091c\u093e\u0930 \u0930\u0941\u092a\u092f\u0947 \u0915\u093e \u0924\u094b \u091c\u0941\u0930\u094d\u092e\u093e\u0928\u093e \u0939\u094b\u0917\u093e \u0939\u0940 \u0914\u0930\".decode('utf-8')"
     ],
     "language": "python",
     "metadata": {},
     "outputs": [],
     "prompt_number": 21
    },
    {
     "cell_type": "code",
     "collapsed": false,
     "input": [
      "temp_path=\"temp.nc\"\n",
      "seqDims = []\n",
      "seqLengths = []\n",
      "targetStrings = []#list of ground truth with space sperated characters and space in gnd replaced with *\n",
      "wordTargetStrings = []#list of ground truth with space replaced with * !!\n",
      "seqTags = []\n",
      "inputs = []\n",
      "seqTags.append(str(1))\n",
      "word=\"1\"\n",
      "wts=word.encode('unicode_escape')\n",
      "#print wts\n",
      "wordTargetStrings.append(wts)\n",
      "ts = \"\"\n",
      "for c in word:\n",
      "    label = c.encode('unicode_escape')\n",
      "    ts += label + ' '\n",
      "ts = ts.strip()\n",
      "targetStrings.append(ts)\n",
      "oldlen = len(inputs)\n",
      "for k in input_string:\n",
      "    if dict_map.get(k)!=None:\n",
      "        id_val=float(dict_map[k])\n",
      "    else:\n",
      "        id_val=0.0\n",
      "    inputs.append([id_val,0.0])\n",
      "    inputs.append([0.0,0.0])\n",
      "#inputs[-1][-1] = 1#penup pendown indicator !!\n",
      "#print inputs\n",
      "seqLengths.append(len(inputs) - oldlen)\n",
      "seqDims.append([seqLengths[-1]])\n",
      "#skip the normalisation term !!\n",
      "#create a new .nc file\n",
      "file = NetCDFFile(temp_path, 'w')\n",
      "\n",
      "#create the dimensions\n",
      "createNcDim(file,'numSeqs',len(seqLengths))#no of lines !!\n",
      "createNcDim(file,'numTimesteps',len(inputs))# featlen*noofInstnces*noOfSamples!!\n",
      "createNcDim(file,'inputPattSize',len(inputs[0]))#feature len !!\n",
      "createNcDim(file,'numDims',1) #?\n",
      "createNcDim(file,'numLabels',len(labels))# no of uniq labels\n",
      "\n",
      "#create the variables\n",
      "createNcStrings(file,'seqTags',seqTags,('numSeqs','maxSeqTagLength'),'sequence tags')#list of samplename files !!\n",
      "createNcStrings(file,'labels',labels,('numLabels','maxLabelLength'),'labels')#labels uniq list\n",
      "createNcStrings(file,'targetStrings',targetStrings,('numSeqs','maxTargStringLength'),'target strings')#targetstrings\n",
      "createNcStrings(file,'wordTargetStrings',wordTargetStrings,('numSeqs','maxWordTargStringLength'),'word target strings')#wordstraings\n",
      "createNcVar(file,'seqLengths',seqLengths,'i',('numSeqs',),'sequence lengths')#list of seqlengths[l,l,l]\n",
      "createNcVar(file,'seqDims',seqDims,'i',('numSeqs','numDims'),'sequence dimensions')#seqDims [[l],[l],[l]]\n",
      "createNcVar(file,'inputs',inputs,'f',('numTimesteps','inputPattSize'),'input patterns')#inputs !!\n",
      "\n",
      "#write the data to disk\n",
      "print \"closing file\", temp_path\n",
      "file.close()"
     ],
     "language": "python",
     "metadata": {},
     "outputs": [
      {
       "output_type": "stream",
       "stream": "stdout",
       "text": [
        "creating netcdf dimension: numSeqs 1\n",
        "creating netcdf dimension: numTimesteps 324\n",
        "creating netcdf dimension: inputPattSize 2\n",
        "creating netcdf dimension: numDims 1\n",
        "creating netcdf dimension: numLabels 5\n",
        "wrting strings seqTags\n",
        "creating netcdf dimension: maxSeqTagLength 2\n",
        "creating netcdf variable seqTags\n",
        "(1, 2)\n",
        "wrting strings labels\n",
        "creating netcdf dimension: maxLabelLength 2\n",
        "creating netcdf variable labels\n",
        "(5, 2)\n",
        "wrting strings targetStrings\n",
        "creating netcdf dimension: maxTargStringLength 2\n",
        "creating netcdf variable targetStrings\n",
        "(1, 2)\n",
        "wrting strings wordTargetStrings\n",
        "creating netcdf dimension: maxWordTargStringLength 2\n",
        "creating netcdf variable wordTargetStrings\n",
        "(1, 2)\n",
        "creating netcdf variable seqLengths\n",
        "(1,)\n",
        "creating netcdf variable seqDims\n",
        "(1, 1)\n",
        "creating netcdf variable inputs\n",
        "(324, 2)\n",
        "closing file temp.nc\n"
       ]
      }
     ],
     "prompt_number": 26
    },
    {
     "cell_type": "code",
     "collapsed": false,
     "input": [
      "Weight_file='Devanagari_language_identify.save'\n",
      "cmd1=\"rnnlib --trainFile='\"\"' --valFile='\"\"' --testFile=temp.nc --dataset=test --verbose=true --errorTest=true %s\"%(Weight_file)\n",
      "f=subprocess.Popen(cmd1,shell=True)\n",
      "print cmd1"
     ],
     "language": "python",
     "metadata": {},
     "outputs": [
      {
       "output_type": "stream",
       "stream": "stdout",
       "text": [
        "rnnlib --trainFile='' --valFile='' --testFile=temp.nc --dataset=test --verbose=true --errorTest=true Devanagari_language_identify.save\n"
       ]
      }
     ],
     "prompt_number": 27
    },
    {
     "cell_type": "code",
     "collapsed": false,
     "input": [
      "dir_path=\"./\"\n",
      "os.chdir(dir_path)\n",
      "for file in glob.glob(\"*.log\"):\n",
      "    pathf=dir_path+str(file)\n",
      "    print file#pathf"
     ],
     "language": "python",
     "metadata": {},
     "outputs": [
      {
       "output_type": "stream",
       "stream": "stdout",
       "text": [
        "Devanagari_language_identify@2016.01.01-19.22.30.365188.log\n"
       ]
      }
     ],
     "prompt_number": 28
    },
    {
     "cell_type": "code",
     "collapsed": false,
     "input": [],
     "language": "python",
     "metadata": {},
     "outputs": [],
     "prompt_number": 30
    },
    {
     "cell_type": "code",
     "collapsed": false,
     "input": [
      "fpr=codecs.open(pathf,\"r\")\n",
      "for f in fpr:\n",
      "    if f[:12]==\"output label\":\n",
      "        result=fpr.next().strip()\n",
      "        print dict_op.get(result)\n",
      "os.remove(pathf)\n",
      "os.remove(temp_path)"
     ],
     "language": "python",
     "metadata": {},
     "outputs": [
      {
       "output_type": "stream",
       "stream": "stdout",
       "text": [
        "Hindi\n"
       ]
      }
     ],
     "prompt_number": 30
    },
    {
     "cell_type": "code",
     "collapsed": false,
     "input": [],
     "language": "python",
     "metadata": {},
     "outputs": []
    }
   ],
   "metadata": {}
  }
 ]
}